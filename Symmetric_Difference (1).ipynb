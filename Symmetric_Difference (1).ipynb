{
  "nbformat": 4,
  "nbformat_minor": 0,
  "metadata": {
    "colab": {
      "provenance": []
    },
    "kernelspec": {
      "name": "python3",
      "display_name": "Python 3"
    },
    "language_info": {
      "name": "python"
    }
  },
  "cells": [
    {
      "cell_type": "code",
      "execution_count": null,
      "metadata": {
        "id": "TlPXXVc0qUOp"
      },
      "outputs": [],
      "source": [
        "# Find the Symmetric Difference\n",
        "def sym(args):\n",
        "\n",
        "  pasado = []\n",
        "  salida = []\n",
        "\n",
        "  for list in args:\n",
        "     for x in list:\n",
        "        if x in salida:\n",
        "            salida.remove(x)\n",
        "            pasado.append(x)\n",
        "        elif ~ (x in pasado):\n",
        "            salida.append(x)\n",
        "\n",
        "  return salida\n",
        "\n"
      ]
    }
  ]
}